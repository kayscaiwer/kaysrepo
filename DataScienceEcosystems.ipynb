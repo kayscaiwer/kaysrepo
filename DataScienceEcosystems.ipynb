{
 "cells": [
  {
   "cell_type": "code",
   "execution_count": 22,
   "id": "4fa1102b-4797-4e9b-9ba0-9f9d8900ec3c",
   "metadata": {},
   "outputs": [
    {
     "data": {
      "text/html": [
       "<style>\n",
       "table {float:left}\n",
       "</style>\n"
      ],
      "text/plain": [
       "<IPython.core.display.HTML object>"
      ]
     },
     "metadata": {},
     "output_type": "display_data"
    }
   ],
   "source": [
    "%%html\n",
    "<style>\n",
    "table {float:left}\n",
    "</style>"
   ]
  },
  {
   "cell_type": "markdown",
   "id": "da00b79c-1098-45c5-b9ab-9599aa9404dd",
   "metadata": {},
   "source": [
    "# Data Science Tools and Ecosystem\n",
    "### In this notebook is a summary of Data Science tools and ecosystem.\n",
    "### There are descriptions and lists of various tools pertinent to the field of data science\n",
    "### Exercises 1, 2, and 3: &#9757;"
   ]
  },
  {
   "cell_type": "markdown",
   "id": "6703619a-4245-4ed7-bf85-5c7382df969b",
   "metadata": {},
   "source": [
    "## Author\n",
    "Jimmy K. Kayongo"
   ]
  },
  {
   "cell_type": "markdown",
   "id": "6950d396-ea10-409d-8f08-5293039a6441",
   "metadata": {},
   "source": [
    "### **Objectives** :\n",
    "### - To list some of the most popular languages that Data Scientists use\n",
    "### - To highlight some of the most applied libraries in these languages\n",
    "### - To illustrate application of arithmetical expressions in Python\n",
    "### - To demonstrate the use of tables to present information of a categorical nature"
   ]
  },
  {
   "cell_type": "markdown",
   "id": "6b7f5714-9e24-46bb-adad-7fe4859e0bbb",
   "metadata": {},
   "source": [
    "### Exercise 4: \n",
    "##### Some of the popular languages that Data Scientists use are:\n",
    "##### 1. Python\n",
    "##### 2. R\n",
    "##### 3. Scala\n",
    "##### 4. SQL"
   ]
  },
  {
   "cell_type": "markdown",
   "id": "c2cf8722-9db2-49d2-be72-77efe0f2e3f1",
   "metadata": {},
   "source": [
    "### Exercise 5: \n",
    "##### Some of the commonly used libraries used by Data Scientists include:\n",
    "#####   1. Scikit Learn\n",
    "#####   2. Pandas\n",
    "#####   3. Matplotlib\n",
    "#####   4. Tensor Flow\n",
    "#####   5. PyTorch"
   ]
  },
  {
   "cell_type": "markdown",
   "id": "92537f1f-af68-4289-b29d-21d617198dad",
   "metadata": {},
   "source": [
    "### Exercise 6: Below is a table of some of the open source development environments for Data Scientists.\n",
    "| Data Science Tools |\n",
    "----------------------\n",
    "| Jupyter Notebook   |\n",
    "| R Studio           |\n",
    "| Visual Studio Code |"
   ]
  },
  {
   "cell_type": "code",
   "execution_count": 23,
   "id": "02619901-6908-4230-8c84-2dea6f3e5e3d",
   "metadata": {},
   "outputs": [
    {
     "name": "stdout",
     "output_type": "stream",
     "text": [
      "2\n",
      "1\n",
      "2.7\n",
      "4\n",
      "9\n"
     ]
    }
   ],
   "source": [
    "print(9 // 4) # int only output\n",
    "print(9 % 4) # remainder\n",
    "print(f\"{8 / (7-4):0.1f}\") # formatting with f-strings to 1 decimal place\n",
    "print(2 + 2) # standard addition\n",
    "print(3 ** 2) # squared (exponetial operation)"
   ]
  },
  {
   "cell_type": "markdown",
   "id": "99a9fd35-fed9-4b95-be49-964ed3d27fc3",
   "metadata": {},
   "source": [
    "### Exercise 8: Below is another arithmetic operation illustration."
   ]
  },
  {
   "cell_type": "code",
   "execution_count": 24,
   "id": "6f89a83d-6588-4393-86df-ad015ebd5eb1",
   "metadata": {},
   "outputs": [
    {
     "name": "stdout",
     "output_type": "stream",
     "text": [
      "17\n"
     ]
    }
   ],
   "source": [
    "# This is an operation to return [(3 x 4) = 12] + [5] = 17\n",
    "# Multiplication in combination with addition.\n",
    "print( (3*4)+5 )"
   ]
  },
  {
   "cell_type": "markdown",
   "id": "f632c3ec-e550-434a-978c-01d677011625",
   "metadata": {},
   "source": [
    "### Exercise 9: Below is a code to convert 200 minutes to hours"
   ]
  },
  {
   "cell_type": "code",
   "execution_count": 25,
   "id": "6ddd27e6-7854-4cf7-a319-78cbf0cadc7c",
   "metadata": {},
   "outputs": [
    {
     "name": "stdout",
     "output_type": "stream",
     "text": [
      "3.3\n"
     ]
    }
   ],
   "source": [
    "# Conversion of 3 1/3 Hrs to be rounded to a single decimal digit \n",
    "print(f\"{200/60:0.1f}\")"
   ]
  },
  {
   "cell_type": "markdown",
   "id": "fc2c5ab9-ba4e-4078-9206-89f2d1c6e60f",
   "metadata": {},
   "source": [
    "### Assignment Text:\n",
    "###### Note - Screenshots\n",
    "###### Throughout this lab, you will be prompted to take screenshots and save them on your device. \n",
    "###### You will need these screenshots to upload them as your submission for peer review at the end of this course. \n",
    "###### You can use various free screengrabbing tools or your operating system's shortcut keys to do this \n",
    "###### (for example, Alt+PrintScreen in Windows and Shift+Command+3 for Mac).\n",
    "###### Note: It's a good idea to take a screenshot from the question header to the final output to capture everything."
   ]
  },
  {
   "cell_type": "markdown",
   "id": "daf2ef0b-8e4d-4bb5-a3b1-fa01705d5c4b",
   "metadata": {},
   "source": [
    "### Exercise 1: Create a Jupyter Notebook\n",
    "###### Create a new Jupyter notebook called ***DataScienceEcosystem.ipynb***\n",
    "###### Note: The next item in the course will launch JupyterLite with an empty notebook with this name.\n",
    "###### You can use to complete rest of the Exercises. \n",
    "###### You can also use any other Jupyter notebook environment (e.g. Anaconda) that you prefer to complete the assignment."
   ]
  },
  {
   "cell_type": "markdown",
   "id": "050bf582-7757-4d07-b6eb-c9c97d1fc5ef",
   "metadata": {},
   "source": [
    "### Exercise 2: Create markdown cell with title of the notebook\n",
    "###### Create a markdown cell with the title Data Science Tools and Ecosystem using H1 style heading.\n",
    "###### Take a screenshot of the markdown cell and name it as ***2-title.png***\n",
    "###### (Images can be saved with either the .jpg or .png extension.)"
   ]
  },
  {
   "cell_type": "markdown",
   "id": "8c1acea2-da44-487e-8cd8-b39e863d0f21",
   "metadata": {},
   "source": [
    "### Exercise 3: Create a markdown cell for an introduction\n",
    "###### Write an introductory sentence about the notebook such as the follows:\n",
    "###### In this notebook, Data Science Tools and Ecosystem are summarized.\n",
    "###### Take a screenshot of the markdown cell and name it as *3-intro.png*\n",
    "###### (Images can be saved with either the .jpg or .png extension.)"
   ]
  },
  {
   "cell_type": "markdown",
   "id": "3867bb8d-52c0-4bab-8416-5c3fe0102198",
   "metadata": {},
   "source": [
    "### Exercise 4: Create a markdown cell to list data science languages\n",
    "###### Start the cell with an overview line such as:\n",
    "###### Some of the popular languages that Data Scientists use are:\n",
    "###### Then create an ordered list (i.e. numbered) listing 3 (or more) commonly used languages for data science.\n",
    "###### Take a screenshot of the markdown cell and name it as 4-dslanguages.png \n",
    "###### (Images can be saved with either the .jpg or .png extension.)"
   ]
  },
  {
   "cell_type": "markdown",
   "id": "7a9026b3-7b50-4260-8229-985c57e52687",
   "metadata": {},
   "source": [
    "### Exercise 5: Create a markdown cell to list data science libraries\n",
    "###### Add an overview line to the cell like:\n",
    "###### Some of the commonly used libraries used by Data Scientists include:\n",
    "###### Below this line add an ordered list listing 3 (or more) commonly used libraries in data science.\n",
    "###### Take a screenshot of the markdown cell and name it as 5-dslibraries.png \n",
    "###### (Images can be saved with either the .jpg or .png extension.)"
   ]
  },
  {
   "cell_type": "markdown",
   "id": "ccb66861-046e-49d0-800d-3793f3b294a7",
   "metadata": {},
   "source": [
    "### Exercise 6: Create a markdown cell with a table of Data Science tools\n",
    "###### Create a single column table in this cell with the first row containing the header Data Science Tools. \n",
    "###### The subsequent three rows in the table should indicate three development environment open source tools used in data science.\n",
    "###### Take a screenshot of the markdown cell and name it as 6-dstools.png \n",
    "###### (Images can be saved with either the .jpg or .png extension.)\n",
    "###### Hint: Refer to Lab: Using Markdowns in Jupyter Notebooks to create a table."
   ]
  },
  {
   "cell_type": "markdown",
   "id": "b25959df-575b-4bf8-8598-35fe7cfd2fcc",
   "metadata": {},
   "source": [
    "### Exercise 7: Create a markdown cell introducing arithmetic expression examples\n",
    "###### Add a line in this cell with H3 style heading with text like:\n",
    "###### Below are a few examples of evaluating arithmetic expressions in Python.\n",
    "###### Take a screenshot of the markdown cell and name it as 7-introarithmetic.png \n",
    "###### (Images can be saved with either the .jpg or .png extension.)"
   ]
  },
  {
   "cell_type": "markdown",
   "id": "db089489-fe9e-4d7f-88c7-ba71af6ee4a0",
   "metadata": {},
   "source": [
    "### Exercise 8: Create a code cell to multiply and add numbers\n",
    "###### In this code cell evaluate the expression (3*4)+5.\n",
    "###### Insert a comment line before the expression to explain the operation e.g.  \n",
    "###### This a simple arithmetic expression to mutiply then add integers.\n",
    "###### Then execute the cell to ensure the expression returns the expected output of 17.\n",
    "###### Take a screenshot of the code cell with output and name it as 8-multiplyandaddintegers.png \n",
    "###### (Images can be saved with either the .jpg or .png extension.)"
   ]
  },
  {
   "cell_type": "markdown",
   "id": "28c53182-c5f4-4600-8c0f-b63e4495884b",
   "metadata": {},
   "source": [
    "### Exercise 9: Create a code cell to convert minutes to hours\n",
    "###### In this code cell write an expression that converts 200 minutes into hours.\n",
    "###### Insert a comment line before the expression to explain the operation e.g.  \n",
    "###### This will convert 200 minutes to hours by diving by 60.\n",
    "###### Run the cell to evaluate the expression.\n",
    "###### Take a screenshot of the code cell with output and name it as 9-hourstominutes.png \n",
    "###### (Images can be saved with either the .jpg or .png extension.)"
   ]
  },
  {
   "cell_type": "markdown",
   "id": "db64dc13-60ed-40c6-a3aa-4c70d18ae310",
   "metadata": {},
   "source": [
    "### Exercise 10: Insert a markdown cell to list Objectives\n",
    "###### Below the introduction cell created in Exercise 3, \n",
    "###### insert a new markdown cell to list the objectives that this notebook covered (i.e. some of the key takeaways from the course). \n",
    "###### In this new cell start with an introductory line titled: Objectives: in bold font. \n",
    "###### Then using an unordered list (bullets) indicate 3 to 5 items covered in this notebook, \n",
    "###### such as List popular languages for Data Science.\n",
    "###### Take a screenshot of the markdown cell and name it as 10-objectives.png \n",
    "###### (Images can be saved with either the .jpg or .png extension.)"
   ]
  },
  {
   "cell_type": "markdown",
   "id": "40889754-c724-4b67-96a5-c90775232168",
   "metadata": {},
   "source": [
    "### Exercise 11: Create a markdown cell to indicate the Author's name.\n",
    "###### In this markdown cell include the following text \n",
    "###### Author in H2 style heading. \n",
    "###### Include your name as regular text below the word Author.\n",
    "###### Take a screenshot of the markdown cell and name it as 11-authordetails.png \n",
    "###### (Images can be saved with either the .jpg or .png extension.)\n",
    "###### Note: Save and download the notebook."
   ]
  },
  {
   "cell_type": "markdown",
   "id": "5d895817-b300-4590-8f3c-f7aaca784a97",
   "metadata": {},
   "source": [
    "### Exercise 12: Share your notebook through GitHub\n",
    "###### Upload your notebook to a public respository on GitHub.\n",
    "###### Note : Please keep the GitHub repo link of the notebook handy.\n",
    "###### You will need to submit this link as a part of the assignment evaluation.\n",
    "###### Hint: Refer to Lab: Working with files in Jupyter Notebooks to download the notebook from SN Labs."
   ]
  },
  {
   "cell_type": "markdown",
   "id": "507cfcd1-bb97-4562-af09-b302f98b9c5f",
   "metadata": {},
   "source": [
    "### Exercise 13: Take a screenshot of the first page \n",
    "###### of the notebook and save it as 1-notebook.png\n",
    "###### (Images can be saved with either the .jpg or .png extension.)\n",
    "###### Refer to Hands-on Lab: \n",
    "###### Getting Started with GitHub to upload the downloaded notebook to GitHub.\n",
    "###### Congratulations on completing this project. \n",
    "###### In a subsequent item in the course you will submit a link to your notebook \n",
    "###### on GitHub and evaluate your peers."
   ]
  }
 ],
 "metadata": {
  "kernelspec": {
   "display_name": "Python 3 (ipykernel)",
   "language": "python",
   "name": "python3"
  },
  "language_info": {
   "codemirror_mode": {
    "name": "ipython",
    "version": 3
   },
   "file_extension": ".py",
   "mimetype": "text/x-python",
   "name": "python",
   "nbconvert_exporter": "python",
   "pygments_lexer": "ipython3",
   "version": "3.10.5"
  }
 },
 "nbformat": 4,
 "nbformat_minor": 5
}
